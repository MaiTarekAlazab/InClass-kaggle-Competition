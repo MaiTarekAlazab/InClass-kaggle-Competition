{
 "cells": [
  {
   "cell_type": "markdown",
   "metadata": {
    "id": "gCvsoB7ImJkA",
    "papermill": {
     "duration": 0.033979,
     "end_time": "2021-07-27T16:48:25.157380",
     "exception": false,
     "start_time": "2021-07-27T16:48:25.123401",
     "status": "completed"
    },
    "tags": []
   },
   "source": [
    "# Import Libraries "
   ]
  },
  {
   "cell_type": "code",
   "execution_count": 1,
   "metadata": {
    "execution": {
     "iopub.execute_input": "2021-07-27T16:48:25.234540Z",
     "iopub.status.busy": "2021-07-27T16:48:25.233834Z",
     "iopub.status.idle": "2021-07-27T16:48:26.382761Z",
     "shell.execute_reply": "2021-07-27T16:48:26.383347Z",
     "shell.execute_reply.started": "2021-07-27T16:47:40.154766Z"
    },
    "id": "NGculdeemJkD",
    "papermill": {
     "duration": 1.193814,
     "end_time": "2021-07-27T16:48:26.383654",
     "exception": false,
     "start_time": "2021-07-27T16:48:25.189840",
     "status": "completed"
    },
    "tags": []
   },
   "outputs": [],
   "source": [
    "import pandas as pd\n",
    "import os\n",
    "import io \n",
    "import seaborn as sns\n",
    "import numpy as np                                \n",
    "import matplotlib.pyplot as plt \n",
    "from sklearn.preprocessing import OneHotEncoder\n",
    "import datetime\n",
    "from datetime import datetime as dt\n"
   ]
  },
  {
   "cell_type": "code",
   "execution_count": 2,
   "metadata": {
    "execution": {
     "iopub.execute_input": "2021-07-27T16:48:26.449289Z",
     "iopub.status.busy": "2021-07-27T16:48:26.448461Z",
     "iopub.status.idle": "2021-07-27T16:48:26.455840Z",
     "shell.execute_reply": "2021-07-27T16:48:26.456416Z",
     "shell.execute_reply.started": "2021-07-27T16:47:40.174828Z"
    },
    "id": "3pogzJpCfP-x",
    "papermill": {
     "duration": 0.041624,
     "end_time": "2021-07-27T16:48:26.456598",
     "exception": false,
     "start_time": "2021-07-27T16:48:26.414974",
     "status": "completed"
    },
    "tags": []
   },
   "outputs": [],
   "source": [
    "#ALL ABOUT DATA\n",
    "def Data_Details(DF, dataname):\n",
    "\n",
    "    print(\"################################################\\n\"+dataname+ \"DATA FRAME SHAPE:\")\n",
    "    print(DF.shape)\n",
    "    print(\"################################################\\n\"+dataname+\"DATA FRAME HEAD:\")\n",
    "    print(DF.head(10))\n",
    "    print(\"################################################\\n\"+dataname+\"DATA FRAME DESCRIBTION:\")\n",
    "    print(DF.describe())\n",
    "    print(\"################################################\\n\"+dataname+\"DATA FRAME INFO:\")\n",
    "    print(DF.info())\n",
    "    print(\"################################################\\n\"+dataname+\"DATA FRAME NULLS:\")\n",
    "    print(DF.isna().sum())  \n",
    "    print(\"-------------------------------------------------\\n\")"
   ]
  },
  {
   "cell_type": "markdown",
   "metadata": {
    "id": "abCC83P6mJkE",
    "papermill": {
     "duration": 0.03068,
     "end_time": "2021-07-27T16:48:26.518003",
     "exception": false,
     "start_time": "2021-07-27T16:48:26.487323",
     "status": "completed"
    },
    "tags": []
   },
   "source": [
    "# Reading Data"
   ]
  },
  {
   "cell_type": "code",
   "execution_count": 8,
   "metadata": {
    "execution": {
     "iopub.execute_input": "2021-07-27T16:48:26.652602Z",
     "iopub.status.busy": "2021-07-27T16:48:26.651966Z",
     "iopub.status.idle": "2021-07-27T16:48:26.741288Z",
     "shell.execute_reply": "2021-07-27T16:48:26.739860Z",
     "shell.execute_reply.started": "2021-07-27T16:47:40.228258Z"
    },
    "id": "K8685izHmJkF",
    "papermill": {
     "duration": 0.124671,
     "end_time": "2021-07-27T16:48:26.741472",
     "exception": false,
     "start_time": "2021-07-27T16:48:26.616801",
     "status": "completed"
    },
    "tags": []
   },
   "outputs": [],
   "source": [
    "#Reading the data\n",
    "dataframe = pd.read_csv(\"./Dataset/Train.csv\")\n",
    "df1=dataframe.copy()\n",
    "\n",
    "dataframe2 = pd.read_csv(\"./Dataset/Weather.csv\")\n",
    "df2=dataframe2.copy()\n",
    "\n",
    "dataframe3 = pd.read_csv(\"./Dataset/Test.csv\")\n",
    "df3=dataframe3.copy()\n"
   ]
  },
  {
   "cell_type": "code",
   "execution_count": 10,
   "metadata": {
    "execution": {
     "iopub.execute_input": "2021-07-27T16:48:26.818279Z",
     "iopub.status.busy": "2021-07-27T16:48:26.817376Z",
     "iopub.status.idle": "2021-07-27T16:48:26.831194Z",
     "shell.execute_reply": "2021-07-27T16:48:26.830511Z",
     "shell.execute_reply.started": "2021-07-27T16:47:40.283325Z"
    },
    "id": "KAZoHy3LK4I7",
    "papermill": {
     "duration": 0.054763,
     "end_time": "2021-07-27T16:48:26.831345",
     "exception": false,
     "start_time": "2021-07-27T16:48:26.776582",
     "status": "completed"
    },
    "tags": []
   },
   "outputs": [],
   "source": [
    "import xml.etree.ElementTree as ET\n",
    "\n",
    "xml_data = open('./Dataset/Holidays.xml', 'r').read()  # Read file\n",
    "root = ET.XML(xml_data)  # Parse XML\n",
    "\n",
    "holidaydata = []\n",
    "holidaycols = ['date', 'description']\n",
    "for i, child in enumerate(root):\n",
    "    holidaydata.append([subchild.text for subchild in child])\n",
    "\n",
    "df_holiday = pd.DataFrame(holidaydata)  # Write in DF and transpose it\n",
    "df_holiday.columns = holidaycols  # Update column names\n",
    "df_holiday.head()\n",
    "\n",
    "df4=df_holiday.copy()\n",
    "\n"
   ]
  },
  {
   "cell_type": "markdown",
   "metadata": {
    "id": "wtuB29MJmJkG",
    "papermill": {
     "duration": 0.031346,
     "end_time": "2021-07-27T16:48:26.894580",
     "exception": false,
     "start_time": "2021-07-27T16:48:26.863234",
     "status": "completed"
    },
    "tags": []
   },
   "source": [
    "# Exploring Data"
   ]
  },
  {
   "cell_type": "code",
   "execution_count": 11,
   "metadata": {
    "execution": {
     "iopub.execute_input": "2021-07-27T16:48:26.962048Z",
     "iopub.status.busy": "2021-07-27T16:48:26.961012Z",
     "iopub.status.idle": "2021-07-27T16:48:27.159091Z",
     "shell.execute_reply": "2021-07-27T16:48:27.159915Z",
     "shell.execute_reply.started": "2021-07-27T16:47:40.295744Z"
    },
    "id": "GREbD_u_fsdL",
    "outputId": "8d3108ad-59f6-4c26-c475-7776e67cdc01",
    "papermill": {
     "duration": 0.233897,
     "end_time": "2021-07-27T16:48:27.160179",
     "exception": false,
     "start_time": "2021-07-27T16:48:26.926282",
     "status": "completed"
    },
    "tags": []
   },
   "outputs": [
    {
     "name": "stdout",
     "output_type": "stream",
     "text": [
      "################################################\n",
      "TrainDATA FRAME SHAPE:\n",
      "(6407, 16)\n",
      "################################################\n",
      "TrainDATA FRAME HEAD:\n",
      "   ID        Lat         Lng   Bump  Distance(mi)  Crossing  Give_Way  \\\n",
      "0   0  37.762150 -122.405660  False         0.044     False     False   \n",
      "1   1  37.719157 -122.448254  False         0.000     False     False   \n",
      "2   2  37.808498 -122.366852  False         0.000     False     False   \n",
      "3   3  37.785930 -122.391080  False         0.009     False     False   \n",
      "4   4  37.719141 -122.448457  False         0.000     False     False   \n",
      "5   5  37.769611 -122.416878  False         0.000     False     False   \n",
      "6   6  37.727318 -122.402756  False         0.000     False     False   \n",
      "7   7  37.731277 -122.435219  False         0.010     False     False   \n",
      "8   8  37.787867 -122.396836  False         0.000      True     False   \n",
      "9   9  37.756806 -122.403612  False         0.000     False     False   \n",
      "\n",
      "   Junction  No_Exit  Railway  Roundabout   Stop  Amenity Side  Severity  \\\n",
      "0     False    False    False       False  False     True    R         2   \n",
      "1     False    False    False       False  False    False    R         2   \n",
      "2     False    False    False       False   True    False    R         3   \n",
      "3      True    False    False       False  False    False    R         1   \n",
      "4     False    False    False       False  False    False    R         2   \n",
      "5     False    False    False       False  False    False    R         2   \n",
      "6     False    False    False       False  False    False    R         2   \n",
      "7     False    False    False       False  False    False    R         3   \n",
      "8     False    False    False       False  False     True    L         2   \n",
      "9     False    False    False       False  False    False    R         2   \n",
      "\n",
      "             timestamp  \n",
      "0  2016-03-25 15:13:02  \n",
      "1  2020-05-05 19:23:00  \n",
      "2  2016-09-16 19:57:16  \n",
      "3  2020-03-29 19:48:43  \n",
      "4  2019-10-09 08:47:00  \n",
      "5  2019-09-22 08:45:38  \n",
      "6  2019-10-23 07:11:42  \n",
      "7  2016-03-25 13:36:15  \n",
      "8  2020-02-23 18:38:00  \n",
      "9  2019-09-25 18:07:00  \n",
      "################################################\n",
      "TrainDATA FRAME DESCRIBTION:\n",
      "                ID          Lat          Lng  Distance(mi)     Severity\n",
      "count  6407.000000  6407.000000  6407.000000   6407.000000  6407.000000\n",
      "mean   3203.000000    37.765653  -122.405990      0.135189     2.293429\n",
      "std    1849.685919     0.032555     0.028275      0.396360     0.521225\n",
      "min       0.000000    37.609619  -122.510440      0.000000     1.000000\n",
      "25%    1601.500000    37.737096  -122.412210      0.000000     2.000000\n",
      "50%    3203.000000    37.768238  -122.404835      0.000000     2.000000\n",
      "75%    4804.500000    37.787813  -122.392478      0.041000     3.000000\n",
      "max    6406.000000    37.825626  -122.349734      6.820000     4.000000\n",
      "################################################\n",
      "TrainDATA FRAME INFO:\n",
      "<class 'pandas.core.frame.DataFrame'>\n",
      "RangeIndex: 6407 entries, 0 to 6406\n",
      "Data columns (total 16 columns):\n",
      " #   Column        Non-Null Count  Dtype  \n",
      "---  ------        --------------  -----  \n",
      " 0   ID            6407 non-null   int64  \n",
      " 1   Lat           6407 non-null   float64\n",
      " 2   Lng           6407 non-null   float64\n",
      " 3   Bump          6407 non-null   bool   \n",
      " 4   Distance(mi)  6407 non-null   float64\n",
      " 5   Crossing      6407 non-null   bool   \n",
      " 6   Give_Way      6407 non-null   bool   \n",
      " 7   Junction      6407 non-null   bool   \n",
      " 8   No_Exit       6407 non-null   bool   \n",
      " 9   Railway       6407 non-null   bool   \n",
      " 10  Roundabout    6407 non-null   bool   \n",
      " 11  Stop          6407 non-null   bool   \n",
      " 12  Amenity       6407 non-null   bool   \n",
      " 13  Side          6407 non-null   object \n",
      " 14  Severity      6407 non-null   int64  \n",
      " 15  timestamp     6407 non-null   object \n",
      "dtypes: bool(9), float64(3), int64(2), object(2)\n",
      "memory usage: 406.8+ KB\n",
      "None\n",
      "################################################\n",
      "TrainDATA FRAME NULLS:\n",
      "ID              0\n",
      "Lat             0\n",
      "Lng             0\n",
      "Bump            0\n",
      "Distance(mi)    0\n",
      "Crossing        0\n",
      "Give_Way        0\n",
      "Junction        0\n",
      "No_Exit         0\n",
      "Railway         0\n",
      "Roundabout      0\n",
      "Stop            0\n",
      "Amenity         0\n",
      "Side            0\n",
      "Severity        0\n",
      "timestamp       0\n",
      "dtype: int64\n",
      "-------------------------------------------------\n",
      "\n",
      "################################################\n",
      "WeatherDATA FRAME SHAPE:\n",
      "(6901, 12)\n",
      "################################################\n",
      "WeatherDATA FRAME HEAD:\n",
      "   Year  Day  Month  Hour Weather_Condition  Wind_Chill(F)  Precipitation(in)  \\\n",
      "0  2020   27      7    18              Fair           64.0                0.0   \n",
      "1  2017   30      9    17     Partly Cloudy            NaN                NaN   \n",
      "2  2017   27      6     5          Overcast            NaN                NaN   \n",
      "3  2016    7      9     9             Clear            NaN                NaN   \n",
      "4  2019   19     10     2              Fair           52.0                0.0   \n",
      "5  2019    1      9    17     Partly Cloudy           74.0                0.0   \n",
      "6  2020    3      8    13     Partly Cloudy           75.0                0.0   \n",
      "7  2019    8     10    13     Mostly Cloudy           73.0                0.0   \n",
      "8  2019   14      2    15     Mostly Cloudy            NaN                NaN   \n",
      "9  2020   27      3    23     Partly Cloudy           54.0                0.0   \n",
      "\n",
      "   Temperature(F)  Humidity(%)  Wind_Speed(mph)  Visibility(mi) Selected  \n",
      "0            64.0         70.0             20.0            10.0       No  \n",
      "1            71.1         57.0              9.2            10.0       No  \n",
      "2            57.9         87.0             15.0             9.0       No  \n",
      "3            66.9         73.0              4.6            10.0       No  \n",
      "4            52.0         89.0              0.0             9.0       No  \n",
      "5            74.0         62.0             10.0            10.0       No  \n",
      "6            75.0         51.0             13.0            10.0       No  \n",
      "7            73.0         53.0             13.0            10.0       No  \n",
      "8            55.0         64.0             18.4            10.0       No  \n",
      "9            54.0         75.0              6.0            10.0       No  \n",
      "################################################\n",
      "WeatherDATA FRAME DESCRIBTION:\n",
      "              Year          Day        Month         Hour  Wind_Chill(F)  \\\n",
      "count  6901.000000  6901.000000  6901.000000  6901.000000    3292.000000   \n",
      "mean   2018.293001    15.624837     6.775250    12.789886      59.762515   \n",
      "std       1.390524     8.703753     3.567982     5.874155       9.338456   \n",
      "min    2016.000000     1.000000     1.000000     0.000000      31.100000   \n",
      "25%    2017.000000     8.000000     4.000000     8.000000      54.000000   \n",
      "50%    2019.000000    15.000000     7.000000    14.000000      59.000000   \n",
      "75%    2020.000000    23.000000    10.000000    17.000000      66.000000   \n",
      "max    2020.000000    31.000000    12.000000    23.000000      98.000000   \n",
      "\n",
      "       Precipitation(in)  Temperature(F)  Humidity(%)  Wind_Speed(mph)  \\\n",
      "count        3574.000000     6899.000000  6899.000000      6556.000000   \n",
      "mean            0.006444       59.905465    68.570952        10.813164   \n",
      "std             0.028822        7.977860    16.180126         6.406376   \n",
      "min             0.000000       36.000000    10.000000         0.000000   \n",
      "25%             0.000000       54.000000    59.000000         5.800000   \n",
      "50%             0.000000       59.000000    70.000000        10.000000   \n",
      "75%             0.000000       64.900000    80.000000        15.000000   \n",
      "max             0.490000       98.100000   100.000000        40.300000   \n",
      "\n",
      "       Visibility(mi)  \n",
      "count     6900.000000  \n",
      "mean         9.441851  \n",
      "std          1.640513  \n",
      "min          0.000000  \n",
      "25%         10.000000  \n",
      "50%         10.000000  \n",
      "75%         10.000000  \n",
      "max         10.000000  \n",
      "################################################\n",
      "WeatherDATA FRAME INFO:\n",
      "<class 'pandas.core.frame.DataFrame'>\n",
      "RangeIndex: 6901 entries, 0 to 6900\n",
      "Data columns (total 12 columns):\n",
      " #   Column             Non-Null Count  Dtype  \n",
      "---  ------             --------------  -----  \n",
      " 0   Year               6901 non-null   int64  \n",
      " 1   Day                6901 non-null   int64  \n",
      " 2   Month              6901 non-null   int64  \n",
      " 3   Hour               6901 non-null   int64  \n",
      " 4   Weather_Condition  6900 non-null   object \n",
      " 5   Wind_Chill(F)      3292 non-null   float64\n",
      " 6   Precipitation(in)  3574 non-null   float64\n",
      " 7   Temperature(F)     6899 non-null   float64\n",
      " 8   Humidity(%)        6899 non-null   float64\n",
      " 9   Wind_Speed(mph)    6556 non-null   float64\n",
      " 10  Visibility(mi)     6900 non-null   float64\n",
      " 11  Selected           6901 non-null   object \n",
      "dtypes: float64(6), int64(4), object(2)\n",
      "memory usage: 647.1+ KB\n",
      "None\n",
      "################################################\n",
      "WeatherDATA FRAME NULLS:\n",
      "Year                    0\n",
      "Day                     0\n",
      "Month                   0\n",
      "Hour                    0\n",
      "Weather_Condition       1\n",
      "Wind_Chill(F)        3609\n",
      "Precipitation(in)    3327\n",
      "Temperature(F)          2\n",
      "Humidity(%)             2\n",
      "Wind_Speed(mph)       345\n",
      "Visibility(mi)          1\n",
      "Selected                0\n",
      "dtype: int64\n",
      "-------------------------------------------------\n",
      "\n",
      "################################################\n",
      "TestDATA FRAME SHAPE:\n",
      "(1601, 15)\n",
      "################################################\n",
      "TestDATA FRAME HEAD:\n",
      "     ID        Lat         Lng   Bump  Distance(mi)  Crossing  Give_Way  \\\n",
      "0  6407  37.786060 -122.390900  False         0.039     False     False   \n",
      "1  6408  37.769609 -122.415057  False         0.202     False     False   \n",
      "2  6409  37.807495 -122.476021  False         0.000     False     False   \n",
      "3  6410  37.761818 -122.405869  False         0.000     False     False   \n",
      "4  6411  37.732350 -122.414100  False         0.670     False     False   \n",
      "5  6412  37.765400 -122.405180  False         0.007     False     False   \n",
      "6  6413  37.802681 -122.372979  False         0.110     False     False   \n",
      "7  6414  37.712692 -122.453102  False         0.000     False     False   \n",
      "8  6415  37.720791 -122.400238  False         0.000     False     False   \n",
      "9  6416  37.748791 -122.404007  False         0.000     False     False   \n",
      "\n",
      "   Junction  No_Exit  Railway  Roundabout   Stop  Amenity Side  \\\n",
      "0      True    False    False       False  False    False    R   \n",
      "1     False    False    False       False  False    False    R   \n",
      "2     False    False    False       False  False    False    R   \n",
      "3      True    False    False       False  False    False    R   \n",
      "4     False    False    False       False  False    False    R   \n",
      "5     False    False    False       False  False    False    R   \n",
      "6     False    False    False       False  False    False    R   \n",
      "7     False    False    False       False  False    False    R   \n",
      "8      True    False    False       False  False    False    R   \n",
      "9     False    False    False       False  False    False    R   \n",
      "\n",
      "             timestamp  \n",
      "0  2016-04-04 19:20:31  \n",
      "1  2020-10-28 11:51:00  \n",
      "2  2019-09-09 07:36:45  \n",
      "3  2019-08-06 15:46:25  \n",
      "4  2018-10-17 09:54:58  \n",
      "5  2020-03-28 18:56:50  \n",
      "6  2016-11-09 14:49:37  \n",
      "7  2019-02-16 01:00:19  \n",
      "8  2020-12-14 06:05:52  \n",
      "9  2018-11-06 17:18:29  \n",
      "################################################\n",
      "TestDATA FRAME DESCRIBTION:\n",
      "                ID          Lat          Lng  Distance(mi)\n",
      "count  1601.000000  1601.000000  1601.000000   1601.000000\n",
      "mean   7207.000000    37.765552  -122.406050      0.149761\n",
      "std     462.313206     0.031883     0.028206      0.467515\n",
      "min    6407.000000    37.614687  -122.510440      0.000000\n",
      "25%    6807.000000    37.735352  -122.414206      0.000000\n",
      "50%    7207.000000    37.768710  -122.404850      0.000000\n",
      "75%    7607.000000    37.786995  -122.392350      0.069000\n",
      "max    8007.000000    37.819321  -122.358505      9.840000\n",
      "################################################\n",
      "TestDATA FRAME INFO:\n",
      "<class 'pandas.core.frame.DataFrame'>\n",
      "RangeIndex: 1601 entries, 0 to 1600\n",
      "Data columns (total 15 columns):\n",
      " #   Column        Non-Null Count  Dtype  \n",
      "---  ------        --------------  -----  \n",
      " 0   ID            1601 non-null   int64  \n",
      " 1   Lat           1601 non-null   float64\n",
      " 2   Lng           1601 non-null   float64\n",
      " 3   Bump          1601 non-null   bool   \n",
      " 4   Distance(mi)  1601 non-null   float64\n",
      " 5   Crossing      1601 non-null   bool   \n",
      " 6   Give_Way      1601 non-null   bool   \n",
      " 7   Junction      1601 non-null   bool   \n",
      " 8   No_Exit       1601 non-null   bool   \n",
      " 9   Railway       1601 non-null   bool   \n",
      " 10  Roundabout    1601 non-null   bool   \n",
      " 11  Stop          1601 non-null   bool   \n",
      " 12  Amenity       1601 non-null   bool   \n",
      " 13  Side          1601 non-null   object \n",
      " 14  timestamp     1601 non-null   object \n",
      "dtypes: bool(9), float64(3), int64(1), object(2)\n",
      "memory usage: 89.2+ KB\n",
      "None\n",
      "################################################\n",
      "TestDATA FRAME NULLS:\n",
      "ID              0\n",
      "Lat             0\n",
      "Lng             0\n",
      "Bump            0\n",
      "Distance(mi)    0\n",
      "Crossing        0\n",
      "Give_Way        0\n",
      "Junction        0\n",
      "No_Exit         0\n",
      "Railway         0\n",
      "Roundabout      0\n",
      "Stop            0\n",
      "Amenity         0\n",
      "Side            0\n",
      "timestamp       0\n",
      "dtype: int64\n",
      "-------------------------------------------------\n",
      "\n",
      "################################################\n",
      "HolidayDATA FRAME SHAPE:\n",
      "(90, 2)\n",
      "################################################\n",
      "HolidayDATA FRAME HEAD:\n",
      "         date                            description\n",
      "0  2012-01-02                           New Year Day\n",
      "1  2012-01-16             Martin Luther King Jr. Day\n",
      "2  2012-02-20  Presidents Day (Washingtons Birthday)\n",
      "3  2012-05-28                           Memorial Day\n",
      "4  2012-07-04                       Independence Day\n",
      "5  2012-09-03                              Labor Day\n",
      "6  2012-10-08                           Columbus Day\n",
      "7  2012-11-12                           Veterans Day\n",
      "8  2012-11-22                       Thanksgiving Day\n",
      "9  2012-12-25                          Christmas Day\n",
      "################################################\n",
      "HolidayDATA FRAME DESCRIBTION:\n",
      "              date   description\n",
      "count           90            90\n",
      "unique          90            10\n",
      "top     2014-05-26  Columbus Day\n",
      "freq             1             9\n",
      "################################################\n",
      "HolidayDATA FRAME INFO:\n",
      "<class 'pandas.core.frame.DataFrame'>\n",
      "RangeIndex: 90 entries, 0 to 89\n",
      "Data columns (total 2 columns):\n",
      " #   Column       Non-Null Count  Dtype \n",
      "---  ------       --------------  ----- \n",
      " 0   date         90 non-null     object\n",
      " 1   description  90 non-null     object\n",
      "dtypes: object(2)\n",
      "memory usage: 1.5+ KB\n",
      "None\n",
      "################################################\n",
      "HolidayDATA FRAME NULLS:\n",
      "date           0\n",
      "description    0\n",
      "dtype: int64\n",
      "-------------------------------------------------\n",
      "\n"
     ]
    }
   ],
   "source": [
    "#Exploring Dataset\n",
    "Data_Details(df1,\"Train\")\n",
    "Data_Details(df2,\"Weather\")\n",
    "Data_Details(df3,\"Test\")\n",
    "Data_Details(df4,\"Holiday\")\n"
   ]
  },
  {
   "cell_type": "markdown",
   "metadata": {
    "id": "-UiIVVj5mJkL",
    "papermill": {
     "duration": 0.032695,
     "end_time": "2021-07-27T16:48:27.226358",
     "exception": false,
     "start_time": "2021-07-27T16:48:27.193663",
     "status": "completed"
    },
    "tags": []
   },
   "source": [
    "# Merging Data"
   ]
  },
  {
   "cell_type": "code",
   "execution_count": 6,
   "metadata": {
    "execution": {
     "iopub.execute_input": "2021-07-27T16:48:27.305076Z",
     "iopub.status.busy": "2021-07-27T16:48:27.303800Z",
     "iopub.status.idle": "2021-07-27T16:48:27.395502Z",
     "shell.execute_reply": "2021-07-27T16:48:27.394904Z",
     "shell.execute_reply.started": "2021-07-27T16:47:40.457784Z"
    },
    "id": "7H6RorjLmJkL",
    "papermill": {
     "duration": 0.136613,
     "end_time": "2021-07-27T16:48:27.395647",
     "exception": false,
     "start_time": "2021-07-27T16:48:27.259034",
     "status": "completed"
    },
    "tags": []
   },
   "outputs": [],
   "source": [
    "#Removing Duplicates Values from the weather dataset\n",
    "df2.drop_duplicates(['Year','Month','Day','Hour'],inplace=True)\n",
    "\n",
    "#Extracting Date information \n",
    "df1['timestamp']=pd.to_datetime(df1['timestamp'])\n",
    "df1['Year']=df1['timestamp'].dt.year\n",
    "df1['Month']=df1['timestamp'].dt.month\n",
    "df1['Day']=df1['timestamp'].dt.day\n",
    "df1['Hour']=df1['timestamp'].dt.hour\n",
    "df1['Weekday']=df1['timestamp'].dt.strftime('%a')\n",
    "\n",
    "df3['timestamp']=pd.to_datetime(df3['timestamp'])\n",
    "df3['Year']=df3['timestamp'].dt.year\n",
    "df3['Month']=df3['timestamp'].dt.month\n",
    "df3['Day']=df3['timestamp'].dt.day\n",
    "df3['Hour']=df3['timestamp'].dt.hour\n",
    "df3['Weekday']=df3['timestamp'].dt.strftime('%a')\n",
    "\n",
    "\n",
    "df4['Year'] = pd.DatetimeIndex(df4[\"date\"]).year\n",
    "df4['Month'] = pd.DatetimeIndex(df4[\"date\"]).month\n",
    "df4['Day'] = pd.DatetimeIndex(df4[\"date\"]).day\n",
    "\n",
    "\n"
   ]
  },
  {
   "cell_type": "code",
   "execution_count": 7,
   "metadata": {
    "execution": {
     "iopub.execute_input": "2021-07-27T16:48:27.469475Z",
     "iopub.status.busy": "2021-07-27T16:48:27.468281Z",
     "iopub.status.idle": "2021-07-27T16:48:27.510680Z",
     "shell.execute_reply": "2021-07-27T16:48:27.510077Z",
     "shell.execute_reply.started": "2021-07-27T16:47:40.552496Z"
    },
    "id": "-LJ0DEu4mJkM",
    "papermill": {
     "duration": 0.082269,
     "end_time": "2021-07-27T16:48:27.510844",
     "exception": false,
     "start_time": "2021-07-27T16:48:27.428575",
     "status": "completed"
    },
    "tags": []
   },
   "outputs": [],
   "source": [
    "#Merging the weather and holiday dataset with the train \n",
    "df_merged0 = pd.merge(df1,df2,how=\"left\",on=['Year','Month','Day','Hour'] )\n",
    "df_merged = pd.merge(df_merged0,df4,how=\"left\", on=['Year','Month','Day'] )\n",
    "\n",
    "#Merging the weather and holiday dataset with the test dataset\n",
    "df_merged_test0 = pd.merge(df3,df2,how=\"left\",on=['Year','Month','Day','Hour'] )\n",
    "df_merged_test = pd.merge(df_merged_test0,df4,how=\"left\",on=['Year','Month','Day'] )"
   ]
  },
  {
   "cell_type": "code",
   "execution_count": 9,
   "metadata": {
    "execution": {
     "iopub.execute_input": "2021-07-27T16:48:27.579446Z",
     "iopub.status.busy": "2021-07-27T16:48:27.578608Z",
     "iopub.status.idle": "2021-07-27T16:48:27.751215Z",
     "shell.execute_reply": "2021-07-27T16:48:27.751969Z",
     "shell.execute_reply.started": "2021-07-27T16:47:40.593359Z"
    },
    "id": "34CibO-eioS6",
    "outputId": "000af0ca-a6bd-4a13-e30a-9c04770cc586",
    "papermill": {
     "duration": 0.209131,
     "end_time": "2021-07-27T16:48:27.752203",
     "exception": false,
     "start_time": "2021-07-27T16:48:27.543072",
     "status": "completed"
    },
    "tags": []
   },
   "outputs": [
    {
     "name": "stdout",
     "output_type": "stream",
     "text": [
      "################################################\n",
      "Merged train data set DATA FRAME SHAPE:\n",
      "(6407, 31)\n",
      "################################################\n",
      "Merged train data set DATA FRAME HEAD:\n",
      "   ID        Lat         Lng   Bump  Distance(mi)  Crossing  Give_Way  \\\n",
      "0   0  37.762150 -122.405660  False         0.044     False     False   \n",
      "1   1  37.719157 -122.448254  False         0.000     False     False   \n",
      "2   2  37.808498 -122.366852  False         0.000     False     False   \n",
      "3   3  37.785930 -122.391080  False         0.009     False     False   \n",
      "4   4  37.719141 -122.448457  False         0.000     False     False   \n",
      "5   5  37.769611 -122.416878  False         0.000     False     False   \n",
      "6   6  37.727318 -122.402756  False         0.000     False     False   \n",
      "7   7  37.731277 -122.435219  False         0.010     False     False   \n",
      "8   8  37.787867 -122.396836  False         0.000      True     False   \n",
      "9   9  37.756806 -122.403612  False         0.000     False     False   \n",
      "\n",
      "   Junction  No_Exit  Railway  ...      Weather_Condition  Wind_Chill(F)  \\\n",
      "0     False    False    False  ...       Scattered Clouds            NaN   \n",
      "1     False    False    False  ...  Mostly Cloudy / Windy           57.0   \n",
      "2     False    False    False  ...                  Clear            NaN   \n",
      "3      True    False    False  ...                   Fair           58.0   \n",
      "4     False    False    False  ...                   Fair           58.0   \n",
      "5     False    False    False  ...                   Fair           61.0   \n",
      "6     False    False    False  ...                   Fair           54.0   \n",
      "7     False    False    False  ...       Scattered Clouds            NaN   \n",
      "8     False    False    False  ...                   Fair           58.0   \n",
      "9     False    False    False  ...          Partly Cloudy           86.0   \n",
      "\n",
      "   Precipitation(in) Temperature(F)  Humidity(%) Wind_Speed(mph)  \\\n",
      "0                NaN           64.0         58.0            23.0   \n",
      "1                0.0           57.0         83.0            22.0   \n",
      "2                NaN           62.1         80.0             9.2   \n",
      "3                0.0           58.0         70.0            10.0   \n",
      "4                0.0           58.0         65.0             3.0   \n",
      "5                0.0           61.0         81.0            13.0   \n",
      "6                0.0           54.0         86.0             0.0   \n",
      "7                NaN           64.9         58.0            13.8   \n",
      "8                0.0           58.0         72.0             5.0   \n",
      "9                0.0           86.0         40.0            10.0   \n",
      "\n",
      "   Visibility(mi)  Selected  date  description  \n",
      "0            10.0        No   NaN          NaN  \n",
      "1            10.0        No   NaN          NaN  \n",
      "2            10.0        No   NaN          NaN  \n",
      "3            10.0        No   NaN          NaN  \n",
      "4            10.0        No   NaN          NaN  \n",
      "5            10.0        No   NaN          NaN  \n",
      "6            10.0        No   NaN          NaN  \n",
      "7            10.0        No   NaN          NaN  \n",
      "8            10.0        No   NaN          NaN  \n",
      "9            10.0        No   NaN          NaN  \n",
      "\n",
      "[10 rows x 31 columns]\n",
      "################################################\n",
      "Merged train data set DATA FRAME DESCRIBTION:\n",
      "                ID          Lat          Lng  Distance(mi)     Severity  \\\n",
      "count  6407.000000  6407.000000  6407.000000   6407.000000  6407.000000   \n",
      "mean   3203.000000    37.765653  -122.405990      0.135189     2.293429   \n",
      "std    1849.685919     0.032555     0.028275      0.396360     0.521225   \n",
      "min       0.000000    37.609619  -122.510440      0.000000     1.000000   \n",
      "25%    1601.500000    37.737096  -122.412210      0.000000     2.000000   \n",
      "50%    3203.000000    37.768238  -122.404835      0.000000     2.000000   \n",
      "75%    4804.500000    37.787813  -122.392477      0.041000     3.000000   \n",
      "max    6406.000000    37.825626  -122.349734      6.820000     4.000000   \n",
      "\n",
      "              Year        Month          Day         Hour  Wind_Chill(F)  \\\n",
      "count  6407.000000  6407.000000  6407.000000  6407.000000    3274.000000   \n",
      "mean   2018.407835     6.744498    15.656626    12.873888      59.936836   \n",
      "std       1.375794     3.568445     8.750849     5.824203       9.162286   \n",
      "min    2016.000000     1.000000     1.000000     0.000000      31.100000   \n",
      "25%    2017.000000     4.000000     8.000000     8.000000      54.000000   \n",
      "50%    2019.000000     7.000000    16.000000    14.000000      59.000000   \n",
      "75%    2020.000000    10.000000    23.000000    17.000000      66.000000   \n",
      "max    2020.000000    12.000000    31.000000    23.000000      98.000000   \n",
      "\n",
      "       Precipitation(in)  Temperature(F)  Humidity(%)  Wind_Speed(mph)  \\\n",
      "count        3529.000000     6405.000000  6405.000000      6111.000000   \n",
      "mean            0.006228       59.939001    68.179547        10.867354   \n",
      "std             0.028202        7.946470    16.165937         6.500334   \n",
      "min             0.000000       36.000000    10.000000         0.000000   \n",
      "25%             0.000000       54.000000    59.000000         5.800000   \n",
      "50%             0.000000       59.000000    70.000000        10.000000   \n",
      "75%             0.000000       64.900000    80.000000        15.000000   \n",
      "max             0.490000       98.000000   100.000000        40.300000   \n",
      "\n",
      "       Visibility(mi)  \n",
      "count     6406.000000  \n",
      "mean         9.440442  \n",
      "std          1.647642  \n",
      "min          0.120000  \n",
      "25%         10.000000  \n",
      "50%         10.000000  \n",
      "75%         10.000000  \n",
      "max         10.000000  \n",
      "################################################\n",
      "Merged train data set DATA FRAME INFO:\n",
      "<class 'pandas.core.frame.DataFrame'>\n",
      "Int64Index: 6407 entries, 0 to 6406\n",
      "Data columns (total 31 columns):\n",
      " #   Column             Non-Null Count  Dtype         \n",
      "---  ------             --------------  -----         \n",
      " 0   ID                 6407 non-null   int64         \n",
      " 1   Lat                6407 non-null   float64       \n",
      " 2   Lng                6407 non-null   float64       \n",
      " 3   Bump               6407 non-null   bool          \n",
      " 4   Distance(mi)       6407 non-null   float64       \n",
      " 5   Crossing           6407 non-null   bool          \n",
      " 6   Give_Way           6407 non-null   bool          \n",
      " 7   Junction           6407 non-null   bool          \n",
      " 8   No_Exit            6407 non-null   bool          \n",
      " 9   Railway            6407 non-null   bool          \n",
      " 10  Roundabout         6407 non-null   bool          \n",
      " 11  Stop               6407 non-null   bool          \n",
      " 12  Amenity            6407 non-null   bool          \n",
      " 13  Side               6407 non-null   object        \n",
      " 14  Severity           6407 non-null   int64         \n",
      " 15  timestamp          6407 non-null   datetime64[ns]\n",
      " 16  Year               6407 non-null   int64         \n",
      " 17  Month              6407 non-null   int64         \n",
      " 18  Day                6407 non-null   int64         \n",
      " 19  Hour               6407 non-null   int64         \n",
      " 20  Weekday            6407 non-null   object        \n",
      " 21  Weather_Condition  6406 non-null   object        \n",
      " 22  Wind_Chill(F)      3274 non-null   float64       \n",
      " 23  Precipitation(in)  3529 non-null   float64       \n",
      " 24  Temperature(F)     6405 non-null   float64       \n",
      " 25  Humidity(%)        6405 non-null   float64       \n",
      " 26  Wind_Speed(mph)    6111 non-null   float64       \n",
      " 27  Visibility(mi)     6406 non-null   float64       \n",
      " 28  Selected           6407 non-null   object        \n",
      " 29  date               148 non-null    object        \n",
      " 30  description        148 non-null    object        \n",
      "dtypes: bool(9), datetime64[ns](1), float64(9), int64(6), object(6)\n",
      "memory usage: 1.2+ MB\n",
      "None\n",
      "################################################\n",
      "Merged train data set DATA FRAME NULLS:\n",
      "ID                      0\n",
      "Lat                     0\n",
      "Lng                     0\n",
      "Bump                    0\n",
      "Distance(mi)            0\n",
      "Crossing                0\n",
      "Give_Way                0\n",
      "Junction                0\n",
      "No_Exit                 0\n",
      "Railway                 0\n",
      "Roundabout              0\n",
      "Stop                    0\n",
      "Amenity                 0\n",
      "Side                    0\n",
      "Severity                0\n",
      "timestamp               0\n",
      "Year                    0\n",
      "Month                   0\n",
      "Day                     0\n",
      "Hour                    0\n",
      "Weekday                 0\n",
      "Weather_Condition       1\n",
      "Wind_Chill(F)        3133\n",
      "Precipitation(in)    2878\n",
      "Temperature(F)          2\n",
      "Humidity(%)             2\n",
      "Wind_Speed(mph)       296\n",
      "Visibility(mi)          1\n",
      "Selected                0\n",
      "date                 6259\n",
      "description          6259\n",
      "dtype: int64\n",
      "-------------------------------------------------\n",
      "\n",
      "################################################\n",
      "Merged test data set DATA FRAME SHAPE:\n",
      "(1601, 30)\n",
      "################################################\n",
      "Merged test data set DATA FRAME HEAD:\n",
      "     ID        Lat         Lng   Bump  Distance(mi)  Crossing  Give_Way  \\\n",
      "0  6407  37.786060 -122.390900  False         0.039     False     False   \n",
      "1  6408  37.769609 -122.415057  False         0.202     False     False   \n",
      "2  6409  37.807495 -122.476021  False         0.000     False     False   \n",
      "3  6410  37.761818 -122.405869  False         0.000     False     False   \n",
      "4  6411  37.732350 -122.414100  False         0.670     False     False   \n",
      "5  6412  37.765400 -122.405180  False         0.007     False     False   \n",
      "6  6413  37.802681 -122.372979  False         0.110     False     False   \n",
      "7  6414  37.712692 -122.453102  False         0.000     False     False   \n",
      "8  6415  37.720791 -122.400238  False         0.000     False     False   \n",
      "9  6416  37.748791 -122.404007  False         0.000     False     False   \n",
      "\n",
      "   Junction  No_Exit  Railway  ...  Weather_Condition  Wind_Chill(F)  \\\n",
      "0      True    False    False  ...      Partly Cloudy            NaN   \n",
      "1     False    False    False  ...               Fair           65.0   \n",
      "2     False    False    False  ...      Mostly Cloudy           58.0   \n",
      "3      True    False    False  ...               Fair           72.0   \n",
      "4     False    False    False  ...   Scattered Clouds            NaN   \n",
      "5     False    False    False  ...             Cloudy           53.0   \n",
      "6     False    False    False  ...      Partly Cloudy            NaN   \n",
      "7     False    False    False  ...   Scattered Clouds            NaN   \n",
      "8      True    False    False  ...               Fair           50.0   \n",
      "9     False    False    False  ...      Partly Cloudy            NaN   \n",
      "\n",
      "   Precipitation(in) Temperature(F) Humidity(%)  Wind_Speed(mph)  \\\n",
      "0                NaN           63.0        60.0             10.4   \n",
      "1                0.0           65.0        56.0              5.0   \n",
      "2                0.0           58.0        90.0             18.0   \n",
      "3                0.0           72.0        59.0             17.0   \n",
      "4                NaN           57.0        77.0              5.8   \n",
      "5                0.0           53.0        74.0              7.0   \n",
      "6                NaN           73.0        66.0             10.4   \n",
      "7                NaN           50.0        71.0             10.4   \n",
      "8                0.0           50.0        80.0              7.0   \n",
      "9                NaN           64.0        46.0             16.1   \n",
      "\n",
      "   Visibility(mi)  Selected  date description  \n",
      "0            10.0        No   NaN         NaN  \n",
      "1             9.0        No   NaN         NaN  \n",
      "2            10.0        No   NaN         NaN  \n",
      "3            10.0        No   NaN         NaN  \n",
      "4            10.0        No   NaN         NaN  \n",
      "5            10.0        No   NaN         NaN  \n",
      "6            10.0        No   NaN         NaN  \n",
      "7            10.0        No   NaN         NaN  \n",
      "8            10.0        No   NaN         NaN  \n",
      "9            10.0        No   NaN         NaN  \n",
      "\n",
      "[10 rows x 30 columns]\n",
      "################################################\n",
      "Merged test data set DATA FRAME DESCRIBTION:\n",
      "                ID          Lat          Lng  Distance(mi)         Year  \\\n",
      "count  1601.000000  1601.000000  1601.000000   1601.000000  1601.000000   \n",
      "mean   7207.000000    37.765552  -122.406050      0.149761  2018.352904   \n",
      "std     462.313206     0.031883     0.028206      0.467515     1.425134   \n",
      "min    6407.000000    37.614687  -122.510440      0.000000  2016.000000   \n",
      "25%    6807.000000    37.735352  -122.414206      0.000000  2017.000000   \n",
      "50%    7207.000000    37.768710  -122.404850      0.000000  2019.000000   \n",
      "75%    7607.000000    37.786995  -122.392350      0.069000  2020.000000   \n",
      "max    8007.000000    37.819321  -122.358505      9.840000  2020.000000   \n",
      "\n",
      "             Month          Day         Hour  Wind_Chill(F)  \\\n",
      "count  1601.000000  1601.000000  1601.000000     818.000000   \n",
      "mean      6.865709    15.231730    12.861337      59.677384   \n",
      "std       3.597058     8.782975     5.845042       9.351688   \n",
      "min       1.000000     1.000000     0.000000      36.400000   \n",
      "25%       4.000000     8.000000     8.000000      54.000000   \n",
      "50%       7.000000    15.000000    14.000000      59.000000   \n",
      "75%      10.000000    23.000000    17.000000      66.000000   \n",
      "max      12.000000    31.000000    23.000000      96.000000   \n",
      "\n",
      "       Precipitation(in)  Temperature(F)  Humidity(%)  Wind_Speed(mph)  \\\n",
      "count         881.000000     1601.000000  1601.000000      1528.000000   \n",
      "mean            0.007355       60.018114    68.797626        10.888351   \n",
      "std             0.030285        8.107571    16.241083         6.424452   \n",
      "min             0.000000       36.000000    12.000000         0.000000   \n",
      "25%             0.000000       55.000000    59.000000         5.800000   \n",
      "50%             0.000000       60.000000    71.000000        10.000000   \n",
      "75%             0.000000       64.900000    81.000000        15.000000   \n",
      "max             0.460000       98.100000   100.000000        36.800000   \n",
      "\n",
      "       Visibility(mi)  \n",
      "count     1601.000000  \n",
      "mean         9.406964  \n",
      "std          1.716951  \n",
      "min          0.000000  \n",
      "25%         10.000000  \n",
      "50%         10.000000  \n",
      "75%         10.000000  \n",
      "max         10.000000  \n",
      "################################################\n",
      "Merged test data set DATA FRAME INFO:\n",
      "<class 'pandas.core.frame.DataFrame'>\n",
      "Int64Index: 1601 entries, 0 to 1600\n",
      "Data columns (total 30 columns):\n",
      " #   Column             Non-Null Count  Dtype         \n",
      "---  ------             --------------  -----         \n",
      " 0   ID                 1601 non-null   int64         \n",
      " 1   Lat                1601 non-null   float64       \n",
      " 2   Lng                1601 non-null   float64       \n",
      " 3   Bump               1601 non-null   bool          \n",
      " 4   Distance(mi)       1601 non-null   float64       \n",
      " 5   Crossing           1601 non-null   bool          \n",
      " 6   Give_Way           1601 non-null   bool          \n",
      " 7   Junction           1601 non-null   bool          \n",
      " 8   No_Exit            1601 non-null   bool          \n",
      " 9   Railway            1601 non-null   bool          \n",
      " 10  Roundabout         1601 non-null   bool          \n",
      " 11  Stop               1601 non-null   bool          \n",
      " 12  Amenity            1601 non-null   bool          \n",
      " 13  Side               1601 non-null   object        \n",
      " 14  timestamp          1601 non-null   datetime64[ns]\n",
      " 15  Year               1601 non-null   int64         \n",
      " 16  Month              1601 non-null   int64         \n",
      " 17  Day                1601 non-null   int64         \n",
      " 18  Hour               1601 non-null   int64         \n",
      " 19  Weekday            1601 non-null   object        \n",
      " 20  Weather_Condition  1601 non-null   object        \n",
      " 21  Wind_Chill(F)      818 non-null    float64       \n",
      " 22  Precipitation(in)  881 non-null    float64       \n",
      " 23  Temperature(F)     1601 non-null   float64       \n",
      " 24  Humidity(%)        1601 non-null   float64       \n",
      " 25  Wind_Speed(mph)    1528 non-null   float64       \n",
      " 26  Visibility(mi)     1601 non-null   float64       \n",
      " 27  Selected           1601 non-null   object        \n",
      " 28  date               37 non-null     object        \n",
      " 29  description        37 non-null     object        \n",
      "dtypes: bool(9), datetime64[ns](1), float64(9), int64(5), object(6)\n",
      "memory usage: 289.2+ KB\n",
      "None\n",
      "################################################\n",
      "Merged test data set DATA FRAME NULLS:\n",
      "ID                      0\n",
      "Lat                     0\n",
      "Lng                     0\n",
      "Bump                    0\n",
      "Distance(mi)            0\n",
      "Crossing                0\n",
      "Give_Way                0\n",
      "Junction                0\n",
      "No_Exit                 0\n",
      "Railway                 0\n",
      "Roundabout              0\n",
      "Stop                    0\n",
      "Amenity                 0\n",
      "Side                    0\n",
      "timestamp               0\n",
      "Year                    0\n",
      "Month                   0\n",
      "Day                     0\n",
      "Hour                    0\n",
      "Weekday                 0\n",
      "Weather_Condition       0\n",
      "Wind_Chill(F)         783\n",
      "Precipitation(in)     720\n",
      "Temperature(F)          0\n",
      "Humidity(%)             0\n",
      "Wind_Speed(mph)        73\n",
      "Visibility(mi)          0\n",
      "Selected                0\n",
      "date                 1564\n",
      "description          1564\n",
      "dtype: int64\n",
      "-------------------------------------------------\n",
      "\n"
     ]
    }
   ],
   "source": [
    "#Exploring the Merged Dataset\n",
    "Data_Details(df_merged,\"Merged train data set \")\n",
    "Data_Details(df_merged_test,\"Merged test data set \")"
   ]
  },
  {
   "cell_type": "markdown",
   "metadata": {
    "heading_collapsed": true,
    "id": "MNQqO4CzmJkN",
    "papermill": {
     "duration": 0.033963,
     "end_time": "2021-07-27T16:48:27.821420",
     "exception": false,
     "start_time": "2021-07-27T16:48:27.787457",
     "status": "completed"
    },
    "tags": []
   },
   "source": [
    "# Cleaning Data for training "
   ]
  },
  {
   "cell_type": "code",
   "execution_count": 10,
   "metadata": {
    "execution": {
     "iopub.execute_input": "2021-07-27T16:48:27.894673Z",
     "iopub.status.busy": "2021-07-27T16:48:27.893790Z",
     "iopub.status.idle": "2021-07-27T16:48:27.897767Z",
     "shell.execute_reply": "2021-07-27T16:48:27.897125Z",
     "shell.execute_reply.started": "2021-07-27T16:47:40.749772Z"
    },
    "hidden": true,
    "id": "JoF4zwMnmJkN",
    "papermill": {
     "duration": 0.042247,
     "end_time": "2021-07-27T16:48:27.897929",
     "exception": false,
     "start_time": "2021-07-27T16:48:27.855682",
     "status": "completed"
    },
    "tags": []
   },
   "outputs": [],
   "source": [
    "#Make a copy from the merged train dataset\n",
    "df=df_merged.copy()"
   ]
  },
  {
   "cell_type": "code",
   "execution_count": 11,
   "metadata": {
    "execution": {
     "iopub.execute_input": "2021-07-27T16:48:27.976461Z",
     "iopub.status.busy": "2021-07-27T16:48:27.974417Z",
     "iopub.status.idle": "2021-07-27T16:48:27.984125Z",
     "shell.execute_reply": "2021-07-27T16:48:27.983531Z",
     "shell.execute_reply.started": "2021-07-27T16:47:40.757690Z"
    },
    "hidden": true,
    "id": "_pWl7tNbmJkO",
    "papermill": {
     "duration": 0.052857,
     "end_time": "2021-07-27T16:48:27.984279",
     "exception": false,
     "start_time": "2021-07-27T16:48:27.931422",
     "status": "completed"
    },
    "tags": []
   },
   "outputs": [],
   "source": [
    "#Dropping the columns that have too much null values or redendant \n",
    "df.drop(columns=['Wind_Chill(F)','Precipitation(in)','timestamp','date'],axis=1,inplace=True)\n",
    "\n",
    "#Dropping the missing values of raws \n",
    "df.dropna(axis=0,subset=['Weather_Condition', 'Temperature(F)','Humidity(%)','Visibility(mi)'],inplace=True)\n",
    "\n",
    "#Filling the missing data of wind_speed with the mean \n",
    "df['Wind_Speed(mph)'].fillna(df['Wind_Speed(mph)'].mean(),inplace=True)\n"
   ]
  },
  {
   "cell_type": "code",
   "execution_count": 12,
   "metadata": {
    "execution": {
     "iopub.execute_input": "2021-07-27T16:48:28.055840Z",
     "iopub.status.busy": "2021-07-27T16:48:28.054802Z",
     "iopub.status.idle": "2021-07-27T16:48:28.079034Z",
     "shell.execute_reply": "2021-07-27T16:48:28.078393Z",
     "shell.execute_reply.started": "2021-07-27T16:47:40.774745Z"
    },
    "hidden": true,
    "id": "4FPNqaDkmJkO",
    "papermill": {
     "duration": 0.062512,
     "end_time": "2021-07-27T16:48:28.079196",
     "exception": false,
     "start_time": "2021-07-27T16:48:28.016684",
     "status": "completed"
    },
    "tags": []
   },
   "outputs": [],
   "source": [
    "# Get the number of unique values for each column\n",
    "counts = df.nunique()\n",
    "\n",
    "# Record columns to delete\n",
    "to_del = [i for i,v in enumerate(counts) if v == 1]\n",
    "\n",
    "# drop useless columns\n",
    "df.drop(df.columns[to_del], axis=1, inplace=True)\n",
    "\n",
    "\n"
   ]
  },
  {
   "cell_type": "code",
   "execution_count": 13,
   "metadata": {
    "execution": {
     "iopub.execute_input": "2021-07-27T16:48:28.158190Z",
     "iopub.status.busy": "2021-07-27T16:48:28.156436Z",
     "iopub.status.idle": "2021-07-27T16:48:28.179899Z",
     "shell.execute_reply": "2021-07-27T16:48:28.180676Z",
     "shell.execute_reply.started": "2021-07-27T16:47:40.797284Z"
    },
    "hidden": true,
    "id": "jTYAzRa2mJkP",
    "outputId": "85b70908-f3c6-4bbd-8a06-d8b1ff65d316",
    "papermill": {
     "duration": 0.067631,
     "end_time": "2021-07-27T16:48:28.180939",
     "exception": false,
     "start_time": "2021-07-27T16:48:28.113308",
     "status": "completed"
    },
    "tags": []
   },
   "outputs": [
    {
     "name": "stdout",
     "output_type": "stream",
     "text": [
      "Wind_Speed(mph)\n",
      " 0.000000     325\n",
      "15.000000    311\n",
      "10.868642    295\n",
      "3.000000     271\n",
      "5.000000     249\n",
      "3.500000     240\n",
      "8.000000     236\n",
      "4.600000     229\n",
      "10.000000    228\n",
      "5.800000     228\n",
      "6.900000     213\n",
      "8.100000     209\n",
      "9.000000     206\n",
      "7.000000     201\n",
      "6.000000     197\n",
      "9.200000     190\n",
      "12.700000    184\n",
      "13.800000    182\n",
      "10.400000    175\n",
      "12.000000    171\n",
      "14.000000    153\n",
      "13.000000    149\n",
      "11.500000    148\n",
      "16.100000    134\n",
      "17.300000    129\n",
      "16.000000    112\n",
      "17.000000    105\n",
      "18.400000     98\n",
      "23.000000     96\n",
      "20.000000     91\n",
      "18.000000     87\n",
      "22.000000     86\n",
      "21.000000     72\n",
      "21.900000     70\n",
      "19.600000     70\n",
      "20.700000     60\n",
      "24.200000     40\n",
      "25.300000     25\n",
      "26.000000     23\n",
      "25.000000     22\n",
      "27.600000     14\n",
      "26.500000     14\n",
      "28.000000     12\n",
      "28.800000     12\n",
      "30.000000      9\n",
      "29.000000      6\n",
      "24.000000      5\n",
      "36.800000      5\n",
      "32.000000      3\n",
      "32.200000      3\n",
      "33.400000      2\n",
      "31.100000      2\n",
      "31.000000      2\n",
      "36.000000      2\n",
      "40.300000      1\n",
      "37.000000      1\n",
      "29.900000      1\n",
      "33.000000      1\n",
      "Name: Wind_Speed(mph), dtype: int64\n",
      "Crossing\n",
      " False    5877\n",
      "True      528\n",
      "Name: Crossing, dtype: int64\n",
      "Give_Way\n",
      " False    6402\n",
      "True        3\n",
      "Name: Give_Way, dtype: int64\n",
      "Junction\n",
      " False    4827\n",
      "True     1578\n",
      "Name: Junction, dtype: int64\n",
      "No_Exit\n",
      " False    6404\n",
      "True        1\n",
      "Name: No_Exit, dtype: int64\n",
      "Railway\n",
      " False    6235\n",
      "True      170\n",
      "Name: Railway, dtype: int64\n",
      "Stop\n",
      " False    5779\n",
      "True      626\n",
      "Name: Stop, dtype: int64\n",
      "Amenity\n",
      " False    6167\n",
      "True      238\n",
      "Name: Amenity, dtype: int64\n",
      "Side\n",
      " R    6080\n",
      "L     325\n",
      "Name: Side, dtype: int64\n",
      "Selected\n",
      " No     6403\n",
      "Yes       2\n",
      "Name: Selected, dtype: int64\n"
     ]
    }
   ],
   "source": [
    "#Count the values of the coulmns to determine which column to keep\n",
    "print('Wind_Speed(mph)\\n',df['Wind_Speed(mph)'].value_counts())\n",
    "print('Crossing\\n',df['Crossing'].value_counts())\n",
    "print('Give_Way\\n',df['Give_Way'].value_counts())\n",
    "print('Junction\\n',df['Junction'].value_counts())\n",
    "print('No_Exit\\n',df['No_Exit'].value_counts())\n",
    "print('Railway\\n',df['Railway'].value_counts())\n",
    "print('Stop\\n',df['Stop'].value_counts())\n",
    "print('Amenity\\n',df['Amenity'].value_counts())\n",
    "print('Side\\n',df['Side'].value_counts())\n",
    "print('Selected\\n',df['Selected'].value_counts())\n",
    "\n"
   ]
  },
  {
   "cell_type": "code",
   "execution_count": 14,
   "metadata": {
    "execution": {
     "iopub.execute_input": "2021-07-27T16:48:28.259011Z",
     "iopub.status.busy": "2021-07-27T16:48:28.258179Z",
     "iopub.status.idle": "2021-07-27T16:48:28.282674Z",
     "shell.execute_reply": "2021-07-27T16:48:28.283431Z",
     "shell.execute_reply.started": "2021-07-27T16:47:40.826841Z"
    },
    "hidden": true,
    "id": "gxXCSfKZmJkP",
    "outputId": "a1b55418-9bba-4a10-b272-a9dffd1d1c34",
    "papermill": {
     "duration": 0.067197,
     "end_time": "2021-07-27T16:48:28.283691",
     "exception": false,
     "start_time": "2021-07-27T16:48:28.216494",
     "status": "completed"
    },
    "tags": []
   },
   "outputs": [
    {
     "name": "stdout",
     "output_type": "stream",
     "text": [
      "False\n",
      "(6405, 22)\n"
     ]
    }
   ],
   "source": [
    "#Dropping the biased columns\n",
    "df.drop(columns=['Give_Way','No_Exit','Selected'],axis=1,inplace=True)\n",
    "\n",
    "# calculate duplicates\n",
    "dups = df.duplicated()\n",
    "\n",
    "# report if there are any duplicates\n",
    "print(dups.any())\n",
    "\n",
    "# list all duplicate rows\n",
    "df.drop_duplicates(inplace=True)\n",
    "print(df.shape)"
   ]
  },
  {
   "cell_type": "markdown",
   "metadata": {
    "id": "ca0YCQH07Hc0",
    "papermill": {
     "duration": 0.03448,
     "end_time": "2021-07-27T16:48:28.353637",
     "exception": false,
     "start_time": "2021-07-27T16:48:28.319157",
     "status": "completed"
    },
    "tags": []
   },
   "source": [
    "# Cleaning Data for test"
   ]
  },
  {
   "cell_type": "code",
   "execution_count": 15,
   "metadata": {
    "execution": {
     "iopub.execute_input": "2021-07-27T16:48:28.435963Z",
     "iopub.status.busy": "2021-07-27T16:48:28.434848Z",
     "iopub.status.idle": "2021-07-27T16:48:28.440935Z",
     "shell.execute_reply": "2021-07-27T16:48:28.440114Z",
     "shell.execute_reply.started": "2021-07-27T16:47:40.855684Z"
    },
    "id": "u9nE_J3e7Hc0",
    "papermill": {
     "duration": 0.052839,
     "end_time": "2021-07-27T16:48:28.441092",
     "exception": false,
     "start_time": "2021-07-27T16:48:28.388253",
     "status": "completed"
    },
    "tags": []
   },
   "outputs": [],
   "source": [
    "#Make a copy from the merged test dataset\n",
    "df_test=df_merged_test.copy()\n",
    "\n",
    "#Dropping the columns that have too much null values or redendant \n",
    "df_test.drop(columns=['Wind_Chill(F)','Precipitation(in)','timestamp','date'],axis=1,inplace=True)\n",
    "\n",
    "#Dropping the missing values of raws \n",
    "df_test.dropna(axis=0,subset=['Weather_Condition', 'Temperature(F)','Humidity(%)','Visibility(mi)'],inplace=True)\n",
    "\n",
    "#Filling the missing data of wind_speed with the mean \n",
    "df_test['Wind_Speed(mph)'].fillna(df['Wind_Speed(mph)'].mean(),inplace=True)"
   ]
  },
  {
   "cell_type": "code",
   "execution_count": 16,
   "metadata": {
    "execution": {
     "iopub.execute_input": "2021-07-27T16:48:28.521766Z",
     "iopub.status.busy": "2021-07-27T16:48:28.520604Z",
     "iopub.status.idle": "2021-07-27T16:48:28.550972Z",
     "shell.execute_reply": "2021-07-27T16:48:28.549492Z",
     "shell.execute_reply.started": "2021-07-27T16:47:40.869356Z"
    },
    "id": "XfbGVT8q7Hc3",
    "outputId": "eda7c393-440d-4ad6-9416-3c44b1fb9e87",
    "papermill": {
     "duration": 0.073574,
     "end_time": "2021-07-27T16:48:28.551207",
     "exception": false,
     "start_time": "2021-07-27T16:48:28.477633",
     "status": "completed"
    },
    "tags": []
   },
   "outputs": [
    {
     "name": "stdout",
     "output_type": "stream",
     "text": [
      "False\n",
      "(1601, 21)\n"
     ]
    }
   ],
   "source": [
    "# Get number of unique values for each column\n",
    "counts2 = df_test.nunique()\n",
    "\n",
    "# Record columns to delete\n",
    "to_del = [i for i,v in enumerate(counts2) if v == 1]\n",
    "\n",
    "# Drop useless columns\n",
    "df_test.drop(df_test.columns[to_del], axis=1, inplace=True)\n",
    "\n",
    "#Dropping the biased columns\n",
    "df_test.drop(columns=['Give_Way'],axis=1,inplace=True)\n",
    "\n",
    "# calculate duplicates\n",
    "dups = df_test.duplicated()\n",
    "\n",
    "# report if there are any duplicates\n",
    "print(dups.any())\n",
    "\n",
    "# list all duplicate rows\n",
    "df_test.drop_duplicates(inplace=True)\n",
    "print(df_test.shape)"
   ]
  },
  {
   "cell_type": "markdown",
   "metadata": {
    "id": "-mNh5JgVmJkQ",
    "papermill": {
     "duration": 0.035101,
     "end_time": "2021-07-27T16:48:28.622344",
     "exception": false,
     "start_time": "2021-07-27T16:48:28.587243",
     "status": "completed"
    },
    "tags": []
   },
   "source": [
    "# Graphs"
   ]
  },
  {
   "cell_type": "code",
   "execution_count": 17,
   "metadata": {
    "execution": {
     "iopub.execute_input": "2021-07-27T16:48:28.698895Z",
     "iopub.status.busy": "2021-07-27T16:48:28.697934Z",
     "iopub.status.idle": "2021-07-27T16:48:28.883658Z",
     "shell.execute_reply": "2021-07-27T16:48:28.883090Z",
     "shell.execute_reply.started": "2021-07-27T16:47:40.901892Z"
    },
    "id": "8NMZ47BimJkR",
    "outputId": "ee4a7cee-d151-4203-e7bb-8a424a01631e",
    "papermill": {
     "duration": 0.226665,
     "end_time": "2021-07-27T16:48:28.883837",
     "exception": false,
     "start_time": "2021-07-27T16:48:28.657172",
     "status": "completed"
    },
    "tags": []
   },
   "outputs": [
    {
     "data": {
      "image/png": "[encoded data removed]",
      "text/plain": [
       "<Figure size 432x288 with 1 Axes>"
      ]
     },
     "metadata": {
      "needs_background": "light"
     },
     "output_type": "display_data"
    }
   ],
   "source": [
    "#Plotting the classes of the date \n",
    "df['Severity'].value_counts().plot(kind='bar')\n",
    "plt.xlabel('Classes')\n",
    "plt.ylabel('Percentage')\n",
    "plt.show()\n",
    "\n",
    "# the graph showed that the data id imbalanced so it will be biased"
   ]
  },
  {
   "cell_type": "code",
   "execution_count": 18,
   "metadata": {
    "execution": {
     "iopub.execute_input": "2021-07-27T16:48:28.988300Z",
     "iopub.status.busy": "2021-07-27T16:48:28.983328Z",
     "iopub.status.idle": "2021-07-27T16:48:31.384292Z",
     "shell.execute_reply": "2021-07-27T16:48:31.384918Z",
     "shell.execute_reply.started": "2021-07-27T16:47:41.036515Z"
    },
    "id": "M5oQUIE_mJkS",
    "outputId": "5a51e6be-ac5d-4142-ee6f-624553a152d3",
    "papermill": {
     "duration": 2.465244,
     "end_time": "2021-07-27T16:48:31.385120",
     "exception": false,
     "start_time": "2021-07-27T16:48:28.919876",
     "status": "completed"
    },
    "tags": []
   },
   "outputs": [
    {
     "data": {
      "text/plain": [
       "Text(0.5, 1.0, 'dataset correlation')"
      ]
     },
     "execution_count": 18,
     "metadata": {},
     "output_type": "execute_result"
    },
    {
     "data": {
      "image/png": "[encoded data removed]",
      "text/plain": [
       "<Figure size 2304x1872 with 2 Axes>"
      ]
     },
     "metadata": {
      "needs_background": "light"
     },
     "output_type": "display_data"
    }
   ],
   "source": [
    "#Plotting the Correlation\n",
    "f, ax = plt.subplots(figsize=(32, 26))\n",
    "corr = df.corr()\n",
    "mp = sns.heatmap(corr, mask=np.zeros_like(corr, dtype=np.bool), cmap=sns.diverging_palette(220, 10, as_cmap=True),\n",
    "            square=True, ax=ax, annot = True)\n",
    "mp.set_title(label='dataset correlation', fontsize=20)"
   ]
  },
  {
   "cell_type": "markdown",
   "metadata": {
    "id": "TieurPAgmJkT",
    "papermill": {
     "duration": 0.044223,
     "end_time": "2021-07-27T16:48:31.475377",
     "exception": false,
     "start_time": "2021-07-27T16:48:31.431154",
     "status": "completed"
    },
    "tags": []
   },
   "source": [
    "# Encoding Categorical Columns "
   ]
  },
  {
   "cell_type": "code",
   "execution_count": 19,
   "metadata": {
    "execution": {
     "iopub.execute_input": "2021-07-27T16:48:31.581233Z",
     "iopub.status.busy": "2021-07-27T16:48:31.579910Z",
     "iopub.status.idle": "2021-07-27T16:48:32.417309Z",
     "shell.execute_reply": "2021-07-27T16:48:32.416563Z",
     "shell.execute_reply.started": "2021-07-27T16:47:43.278570Z"
    },
    "id": "VizsRNdBmJkU",
    "papermill": {
     "duration": 0.8972,
     "end_time": "2021-07-27T16:48:32.417459",
     "exception": false,
     "start_time": "2021-07-27T16:48:31.520259",
     "status": "completed"
    },
    "tags": []
   },
   "outputs": [],
   "source": [
    "#Encoding  for the train set\n",
    "#Grouping the values of the weather conditions to 4 main categories \n",
    "encoded_cons = []\n",
    "for con in df[\"Weather_Condition\"].values:\n",
    "    if \"Cloudy\"  in con.split(\" \"):\n",
    "        encoded_cons.append('Cloudy')\n",
    "    elif \"Fair\"  in con.split(\" \"):\n",
    "        encoded_cons.append('Fair')\n",
    "    elif \"Rain\" in con.split(\" \"):\n",
    "        encoded_cons.append('Rain')\n",
    "    elif \"Overcast\" in con.split(\" \"):\n",
    "        encoded_cons.append('Rain')\n",
    "    else:\n",
    "        encoded_cons.append('other')\n",
    "df['Encoded_Weather'] = encoded_cons\n",
    "del df[\"Weather_Condition\"]\n",
    "\n",
    "#Grouping the values of the Hours  to 2 main categories \n",
    "encoded_hours = []\n",
    "for hour in df[\"Hour\"].values :\n",
    "    if 8>hour>=0:\n",
    "        encoded_hours.append(\"hour_1\")\n",
    "    \n",
    "    else:\n",
    "        encoded_hours.append(\"hour_2\")\n",
    "df['Encoded_Hour_effect'] = encoded_hours\n",
    "del df[\"Hour\"]\n",
    "\n",
    "\n",
    "#Filling the null values of holiday and adding sat and sun to the holiday\n",
    "df['description'].fillna(\"not_holiday\",inplace=True)\n",
    "for con in df[\"Weekday\"].values:\n",
    "    if not 5 or 6 :\n",
    "        df[\"description\"]=\"holiday\"\n",
    "    "
   ]
  },
  {
   "cell_type": "code",
   "execution_count": 20,
   "metadata": {
    "execution": {
     "iopub.execute_input": "2021-07-27T16:48:32.531612Z",
     "iopub.status.busy": "2021-07-27T16:48:32.529408Z",
     "iopub.status.idle": "2021-07-27T16:48:32.653756Z",
     "shell.execute_reply": "2021-07-27T16:48:32.653163Z",
     "shell.execute_reply.started": "2021-07-27T16:47:44.073820Z"
    },
    "id": "P_3RkgYCDD0s",
    "papermill": {
     "duration": 0.190449,
     "end_time": "2021-07-27T16:48:32.653924",
     "exception": false,
     "start_time": "2021-07-27T16:48:32.463475",
     "status": "completed"
    },
    "tags": []
   },
   "outputs": [],
   "source": [
    "#Encoding for the test set\n",
    "#Grouping the values of the weather conditions to 4 main categories for the test set\n",
    "encoded_cons_test = []\n",
    "for con in df_test[\"Weather_Condition\"].values:\n",
    "    if \"Cloudy\"  in con.split(\" \"):\n",
    "        encoded_cons_test.append('Cloudy')\n",
    "    elif \"Fair\" in con.split(\" \"):\n",
    "        encoded_cons_test.append('Fair')\n",
    "    elif \"Rain\" in con.split(\" \"):\n",
    "        encoded_cons_test.append('Rain')\n",
    "    elif \"Overcast\" in con.split(\" \"):\n",
    "        encoded_cons_test.append('Rain')\n",
    "\n",
    "    else:\n",
    "        encoded_cons_test.append('other')\n",
    "df_test['Encoded_Weather'] = encoded_cons_test\n",
    "del df_test[\"Weather_Condition\"]\n",
    "\n",
    "#Grouping the values of the Hours  to 2 main categories \n",
    "encoded_hours_test = []\n",
    "for hour in df_test[\"Hour\"].values :\n",
    "    if 8>hour>=0:\n",
    "        encoded_hours_test.append(\"hour_1\")\n",
    "    else:\n",
    "        encoded_hours_test.append(\"hour_2\")\n",
    "df_test['Encoded_Hour_effect'] = encoded_hours_test\n",
    "del df_test[\"Hour\"]\n",
    "\n",
    "\n",
    "#Filling the null values of holiday and adding sat and sun to the holiday\n",
    "df_test['description'].fillna(\"not_holiday\",inplace=True)\n",
    "for con in df_test[\"Weekday\"].values:\n",
    "    if not 5 or 6 :\n",
    "        df_test[\"description\"]=\"holiday\"\n",
    "    "
   ]
  },
  {
   "cell_type": "code",
   "execution_count": 21,
   "metadata": {
    "execution": {
     "iopub.execute_input": "2021-07-27T16:48:32.748799Z",
     "iopub.status.busy": "2021-07-27T16:48:32.748046Z",
     "iopub.status.idle": "2021-07-27T16:48:32.751692Z",
     "shell.execute_reply": "2021-07-27T16:48:32.751183Z",
     "shell.execute_reply.started": "2021-07-27T16:47:44.216722Z"
    },
    "id": "Kto187bvVzA4",
    "papermill": {
     "duration": 0.056392,
     "end_time": "2021-07-27T16:48:32.751871",
     "exception": false,
     "start_time": "2021-07-27T16:48:32.695479",
     "status": "completed"
    },
    "tags": []
   },
   "outputs": [],
   "source": [
    "#Grouping the value of holiday to 2 main categories for train \n",
    "encoded_hol = []\n",
    "for con in df[\"description\"].values:\n",
    "    if not \"not_holiday\":\n",
    "        encoded_hol.append('holiday')\n",
    "    else:\n",
    "        encoded_hol.append('not_holiday')\n",
    "df['description'] = encoded_hol\n",
    "\n",
    "#Grouping the value of holiday to 2 main categories for test \n",
    "encoded_hol_test = []\n",
    "for con in df_test[\"description\"].values:\n",
    "    if not \"not_holiday\":\n",
    "        encoded_hol_test.append('holiday')\n",
    "    else:\n",
    "        encoded_hol_test.append('not_holiday')\n",
    "df_test['description'] = encoded_hol_test\n"
   ]
  },
  {
   "cell_type": "code",
   "execution_count": 22,
   "metadata": {
    "execution": {
     "iopub.execute_input": "2021-07-27T16:48:32.844076Z",
     "iopub.status.busy": "2021-07-27T16:48:32.843299Z",
     "iopub.status.idle": "2021-07-27T16:48:32.870437Z",
     "shell.execute_reply": "2021-07-27T16:48:32.869737Z",
     "shell.execute_reply.started": "2021-07-27T16:47:44.227128Z"
    },
    "id": "z3WJT7QHmJkV",
    "outputId": "003492dc-a60f-424f-a48e-44f0b40f97b2",
    "papermill": {
     "duration": 0.076629,
     "end_time": "2021-07-27T16:48:32.870578",
     "exception": false,
     "start_time": "2021-07-27T16:48:32.793949",
     "status": "completed"
    },
    "tags": []
   },
   "outputs": [
    {
     "name": "stdout",
     "output_type": "stream",
     "text": [
      "['Side', 'Weekday', 'description', 'Encoded_Weather', 'Encoded_Hour_effect']\n"
     ]
    }
   ],
   "source": [
    "#One Hot Encoding fot categorical Data for both train and test dataset\n",
    "cols_names = df.columns\n",
    "\n",
    "not_categorical = ['ID', 'Lat', 'Lng', 'Distance(mi)', 'Crossing', 'Junction', 'Railway',\n",
    "       'Stop', 'Amenity',  'Severity', 'Year', 'Month', 'Day', 'Temperature(F)', 'Humidity(%)', 'Wind_Speed(mph)',\n",
    "       'Visibility(mi)']\n",
    "target= 'Severity'\n",
    "categorical = [item for item in cols_names if item not in not_categorical and item != target]\n",
    "print(categorical)\n",
    "data_onehot = pd.get_dummies(df, columns=categorical)\n",
    "data_onehot_test = pd.get_dummies(df_test, columns=categorical)\n"
   ]
  },
  {
   "cell_type": "markdown",
   "metadata": {
    "id": "LMR4CbO3mJkW",
    "papermill": {
     "duration": 0.044027,
     "end_time": "2021-07-27T16:48:32.957922",
     "exception": false,
     "start_time": "2021-07-27T16:48:32.913895",
     "status": "completed"
    },
    "tags": []
   },
   "source": [
    "# Data Splitting  "
   ]
  },
  {
   "cell_type": "code",
   "execution_count": 23,
   "metadata": {
    "execution": {
     "iopub.execute_input": "2021-07-27T16:48:33.051456Z",
     "iopub.status.busy": "2021-07-27T16:48:33.050740Z",
     "iopub.status.idle": "2021-07-27T16:48:33.054826Z",
     "shell.execute_reply": "2021-07-27T16:48:33.054124Z",
     "shell.execute_reply.started": "2021-07-27T16:47:44.262048Z"
    },
    "id": "hE8xPqA4u9mT",
    "outputId": "13fce208-0191-4a35-92ff-a00049b97ade",
    "papermill": {
     "duration": 0.053565,
     "end_time": "2021-07-27T16:48:33.054988",
     "exception": false,
     "start_time": "2021-07-27T16:48:33.001423",
     "status": "completed"
    },
    "tags": []
   },
   "outputs": [
    {
     "data": {
      "text/plain": [
       "Index(['ID', 'Lat', 'Lng', 'Distance(mi)', 'Crossing', 'Junction', 'Railway',\n",
       "       'Stop', 'Amenity', 'Severity', 'Year', 'Month', 'Day', 'Temperature(F)',\n",
       "       'Humidity(%)', 'Wind_Speed(mph)', 'Visibility(mi)', 'Side_L', 'Side_R',\n",
       "       'Weekday_Fri', 'Weekday_Mon', 'Weekday_Sat', 'Weekday_Sun',\n",
       "       'Weekday_Thu', 'Weekday_Tue', 'Weekday_Wed', 'description_not_holiday',\n",
       "       'Encoded_Weather_Cloudy', 'Encoded_Weather_Fair',\n",
       "       'Encoded_Weather_Rain', 'Encoded_Weather_other',\n",
       "       'Encoded_Hour_effect_hour_1', 'Encoded_Hour_effect_hour_2'],\n",
       "      dtype='object')"
      ]
     },
     "execution_count": 23,
     "metadata": {},
     "output_type": "execute_result"
    }
   ],
   "source": [
    "data_onehot.columns"
   ]
  },
  {
   "cell_type": "code",
   "execution_count": 24,
   "metadata": {
    "execution": {
     "iopub.execute_input": "2021-07-27T16:48:33.149385Z",
     "iopub.status.busy": "2021-07-27T16:48:33.148610Z",
     "iopub.status.idle": "2021-07-27T16:48:33.226969Z",
     "shell.execute_reply": "2021-07-27T16:48:33.226314Z",
     "shell.execute_reply.started": "2021-07-27T16:47:44.270667Z"
    },
    "id": "dv_FIK_3mJkW",
    "papermill": {
     "duration": 0.127874,
     "end_time": "2021-07-27T16:48:33.227164",
     "exception": false,
     "start_time": "2021-07-27T16:48:33.099290",
     "status": "completed"
    },
    "tags": []
   },
   "outputs": [],
   "source": [
    "#Splitting the data into train and validation \n",
    "from sklearn.model_selection import train_test_split\n",
    "\n",
    "#Train 80 percent , Validation 20 percent\n",
    "train_df, val_df = train_test_split(data_onehot, test_size=0.2, random_state=42) # Try adding `stratify` here\n",
    "\n",
    "X_train = train_df.drop(columns=['ID', 'Severity','Day' ])\n",
    "y_train = train_df['Severity']\n",
    "\n",
    "X_val = val_df.drop(columns=['ID', 'Severity','Day'])\n",
    "y_val = val_df['Severity']"
   ]
  },
  {
   "cell_type": "markdown",
   "metadata": {
    "id": "QbF-lwSFmJkX",
    "papermill": {
     "duration": 0.041791,
     "end_time": "2021-07-27T16:48:33.313186",
     "exception": false,
     "start_time": "2021-07-27T16:48:33.271395",
     "status": "completed"
    },
    "tags": []
   },
   "source": [
    "# Model "
   ]
  },
  {
   "cell_type": "code",
   "execution_count": 25,
   "metadata": {
    "execution": {
     "iopub.execute_input": "2021-07-27T16:48:33.409324Z",
     "iopub.status.busy": "2021-07-27T16:48:33.408234Z",
     "iopub.status.idle": "2021-07-27T16:48:34.110933Z",
     "shell.execute_reply": "2021-07-27T16:48:34.113055Z",
     "shell.execute_reply.started": "2021-07-27T16:47:44.331084Z"
    },
    "id": "gM2Qn2I7mJkZ",
    "outputId": "eead3e8a-7d2e-4c66-860d-f84552ec3df4",
    "papermill": {
     "duration": 0.75631,
     "end_time": "2021-07-27T16:48:34.113349",
     "exception": false,
     "start_time": "2021-07-27T16:48:33.357039",
     "status": "completed"
    },
    "tags": []
   },
   "outputs": [
    {
     "name": "stdout",
     "output_type": "stream",
     "text": [
      "The accuracy of the classifier on the validation set is  0.7673692427790788\n"
     ]
    }
   ],
   "source": [
    "#Training the model \n",
    "from sklearn.ensemble import RandomForestClassifier\n",
    "\n",
    "# Create an instance of the classifier\n",
    "classifier = RandomForestClassifier(max_depth=2, random_state=0)\n",
    "\n",
    "# Train the classifier\n",
    "classifier = classifier.fit(X_train, y_train)\n",
    "print(\"The accuracy of the classifier on the validation set is \", (classifier.score(X_val, y_val)))"
   ]
  },
  {
   "cell_type": "markdown",
   "metadata": {
    "id": "aMz6YUYbmJkZ",
    "papermill": {
     "duration": 0.04416,
     "end_time": "2021-07-27T16:48:34.207102",
     "exception": false,
     "start_time": "2021-07-27T16:48:34.162942",
     "status": "completed"
    },
    "tags": []
   },
   "source": [
    "# Prediction "
   ]
  },
  {
   "cell_type": "code",
   "execution_count": 26,
   "metadata": {
    "execution": {
     "iopub.execute_input": "2021-07-27T16:48:34.301873Z",
     "iopub.status.busy": "2021-07-27T16:48:34.300800Z",
     "iopub.status.idle": "2021-07-27T16:48:34.305777Z",
     "shell.execute_reply": "2021-07-27T16:48:34.305121Z",
     "shell.execute_reply.started": "2021-07-27T16:47:44.860939Z"
    },
    "id": "E-J-btq3FFll",
    "outputId": "edebec1f-b8cd-4fc5-f2cc-489d59ed0fce",
    "papermill": {
     "duration": 0.05328,
     "end_time": "2021-07-27T16:48:34.305938",
     "exception": false,
     "start_time": "2021-07-27T16:48:34.252658",
     "status": "completed"
    },
    "tags": []
   },
   "outputs": [
    {
     "data": {
      "text/plain": [
       "Index(['ID', 'Lat', 'Lng', 'Distance(mi)', 'Crossing', 'Junction', 'Railway',\n",
       "       'Stop', 'Amenity', 'Year', 'Month', 'Day', 'Temperature(F)',\n",
       "       'Humidity(%)', 'Wind_Speed(mph)', 'Visibility(mi)', 'Side_L', 'Side_R',\n",
       "       'Weekday_Fri', 'Weekday_Mon', 'Weekday_Sat', 'Weekday_Sun',\n",
       "       'Weekday_Thu', 'Weekday_Tue', 'Weekday_Wed', 'description_not_holiday',\n",
       "       'Encoded_Weather_Cloudy', 'Encoded_Weather_Fair',\n",
       "       'Encoded_Weather_Rain', 'Encoded_Weather_other',\n",
       "       'Encoded_Hour_effect_hour_1', 'Encoded_Hour_effect_hour_2'],\n",
       "      dtype='object')"
      ]
     },
     "execution_count": 26,
     "metadata": {},
     "output_type": "execute_result"
    }
   ],
   "source": [
    "data_onehot_test.columns"
   ]
  },
  {
   "cell_type": "code",
   "execution_count": 27,
   "metadata": {
    "execution": {
     "iopub.execute_input": "2021-07-27T16:48:34.399976Z",
     "iopub.status.busy": "2021-07-27T16:48:34.399253Z",
     "iopub.status.idle": "2021-07-27T16:48:34.458443Z",
     "shell.execute_reply": "2021-07-27T16:48:34.457705Z",
     "shell.execute_reply.started": "2021-07-27T16:47:44.868913Z"
    },
    "id": "2dPqEVTamJka",
    "outputId": "fa6ce3f5-78c5-41a4-8a28-3de09acdec6a",
    "papermill": {
     "duration": 0.108923,
     "end_time": "2021-07-27T16:48:34.458595",
     "exception": false,
     "start_time": "2021-07-27T16:48:34.349672",
     "status": "completed"
    },
    "tags": []
   },
   "outputs": [
    {
     "data": {
      "text/html": [
       "<div>\n",
       "<style scoped>\n",
       "    .dataframe tbody tr th:only-of-type {\n",
       "        vertical-align: middle;\n",
       "    }\n",
       "\n",
       "    .dataframe tbody tr th {\n",
       "        vertical-align: top;\n",
       "    }\n",
       "\n",
       "    .dataframe thead th {\n",
       "        text-align: right;\n",
       "    }\n",
       "</style>\n",
       "<table border=\"1\" class=\"dataframe\">\n",
       "  <thead>\n",
       "    <tr style=\"text-align: right;\">\n",
       "      <th></th>\n",
       "      <th>ID</th>\n",
       "      <th>Lat</th>\n",
       "      <th>Lng</th>\n",
       "      <th>Distance(mi)</th>\n",
       "      <th>Crossing</th>\n",
       "      <th>Junction</th>\n",
       "      <th>Railway</th>\n",
       "      <th>Stop</th>\n",
       "      <th>Amenity</th>\n",
       "      <th>Year</th>\n",
       "      <th>...</th>\n",
       "      <th>Weekday_Tue</th>\n",
       "      <th>Weekday_Wed</th>\n",
       "      <th>description_not_holiday</th>\n",
       "      <th>Encoded_Weather_Cloudy</th>\n",
       "      <th>Encoded_Weather_Fair</th>\n",
       "      <th>Encoded_Weather_Rain</th>\n",
       "      <th>Encoded_Weather_other</th>\n",
       "      <th>Encoded_Hour_effect_hour_1</th>\n",
       "      <th>Encoded_Hour_effect_hour_2</th>\n",
       "      <th>Severity</th>\n",
       "    </tr>\n",
       "  </thead>\n",
       "  <tbody>\n",
       "    <tr>\n",
       "      <th>0</th>\n",
       "      <td>6407</td>\n",
       "      <td>37.786060</td>\n",
       "      <td>-122.390900</td>\n",
       "      <td>0.039</td>\n",
       "      <td>False</td>\n",
       "      <td>True</td>\n",
       "      <td>False</td>\n",
       "      <td>False</td>\n",
       "      <td>False</td>\n",
       "      <td>2016</td>\n",
       "      <td>...</td>\n",
       "      <td>0</td>\n",
       "      <td>0</td>\n",
       "      <td>1</td>\n",
       "      <td>1</td>\n",
       "      <td>0</td>\n",
       "      <td>0</td>\n",
       "      <td>0</td>\n",
       "      <td>0</td>\n",
       "      <td>1</td>\n",
       "      <td>2</td>\n",
       "    </tr>\n",
       "    <tr>\n",
       "      <th>1</th>\n",
       "      <td>6408</td>\n",
       "      <td>37.769609</td>\n",
       "      <td>-122.415057</td>\n",
       "      <td>0.202</td>\n",
       "      <td>False</td>\n",
       "      <td>False</td>\n",
       "      <td>False</td>\n",
       "      <td>False</td>\n",
       "      <td>False</td>\n",
       "      <td>2020</td>\n",
       "      <td>...</td>\n",
       "      <td>0</td>\n",
       "      <td>1</td>\n",
       "      <td>1</td>\n",
       "      <td>0</td>\n",
       "      <td>1</td>\n",
       "      <td>0</td>\n",
       "      <td>0</td>\n",
       "      <td>0</td>\n",
       "      <td>1</td>\n",
       "      <td>2</td>\n",
       "    </tr>\n",
       "    <tr>\n",
       "      <th>2</th>\n",
       "      <td>6409</td>\n",
       "      <td>37.807495</td>\n",
       "      <td>-122.476021</td>\n",
       "      <td>0.000</td>\n",
       "      <td>False</td>\n",
       "      <td>False</td>\n",
       "      <td>False</td>\n",
       "      <td>False</td>\n",
       "      <td>False</td>\n",
       "      <td>2019</td>\n",
       "      <td>...</td>\n",
       "      <td>0</td>\n",
       "      <td>0</td>\n",
       "      <td>1</td>\n",
       "      <td>1</td>\n",
       "      <td>0</td>\n",
       "      <td>0</td>\n",
       "      <td>0</td>\n",
       "      <td>1</td>\n",
       "      <td>0</td>\n",
       "      <td>2</td>\n",
       "    </tr>\n",
       "    <tr>\n",
       "      <th>3</th>\n",
       "      <td>6410</td>\n",
       "      <td>37.761818</td>\n",
       "      <td>-122.405869</td>\n",
       "      <td>0.000</td>\n",
       "      <td>False</td>\n",
       "      <td>True</td>\n",
       "      <td>False</td>\n",
       "      <td>False</td>\n",
       "      <td>False</td>\n",
       "      <td>2019</td>\n",
       "      <td>...</td>\n",
       "      <td>1</td>\n",
       "      <td>0</td>\n",
       "      <td>1</td>\n",
       "      <td>0</td>\n",
       "      <td>1</td>\n",
       "      <td>0</td>\n",
       "      <td>0</td>\n",
       "      <td>0</td>\n",
       "      <td>1</td>\n",
       "      <td>2</td>\n",
       "    </tr>\n",
       "    <tr>\n",
       "      <th>4</th>\n",
       "      <td>6411</td>\n",
       "      <td>37.732350</td>\n",
       "      <td>-122.414100</td>\n",
       "      <td>0.670</td>\n",
       "      <td>False</td>\n",
       "      <td>False</td>\n",
       "      <td>False</td>\n",
       "      <td>False</td>\n",
       "      <td>False</td>\n",
       "      <td>2018</td>\n",
       "      <td>...</td>\n",
       "      <td>0</td>\n",
       "      <td>1</td>\n",
       "      <td>1</td>\n",
       "      <td>0</td>\n",
       "      <td>0</td>\n",
       "      <td>0</td>\n",
       "      <td>1</td>\n",
       "      <td>0</td>\n",
       "      <td>1</td>\n",
       "      <td>2</td>\n",
       "    </tr>\n",
       "  </tbody>\n",
       "</table>\n",
       "<p>5 rows × 33 columns</p>\n",
       "</div>"
      ],
      "text/plain": [
       "     ID        Lat         Lng  Distance(mi)  Crossing  Junction  Railway  \\\n",
       "0  6407  37.786060 -122.390900         0.039     False      True    False   \n",
       "1  6408  37.769609 -122.415057         0.202     False     False    False   \n",
       "2  6409  37.807495 -122.476021         0.000     False     False    False   \n",
       "3  6410  37.761818 -122.405869         0.000     False      True    False   \n",
       "4  6411  37.732350 -122.414100         0.670     False     False    False   \n",
       "\n",
       "    Stop  Amenity  Year  ...  Weekday_Tue  Weekday_Wed  \\\n",
       "0  False    False  2016  ...            0            0   \n",
       "1  False    False  2020  ...            0            1   \n",
       "2  False    False  2019  ...            0            0   \n",
       "3  False    False  2019  ...            1            0   \n",
       "4  False    False  2018  ...            0            1   \n",
       "\n",
       "   description_not_holiday  Encoded_Weather_Cloudy  Encoded_Weather_Fair  \\\n",
       "0                        1                       1                     0   \n",
       "1                        1                       0                     1   \n",
       "2                        1                       1                     0   \n",
       "3                        1                       0                     1   \n",
       "4                        1                       0                     0   \n",
       "\n",
       "   Encoded_Weather_Rain  Encoded_Weather_other  Encoded_Hour_effect_hour_1  \\\n",
       "0                     0                      0                           0   \n",
       "1                     0                      0                           0   \n",
       "2                     0                      0                           1   \n",
       "3                     0                      0                           0   \n",
       "4                     0                      1                           0   \n",
       "\n",
       "   Encoded_Hour_effect_hour_2  Severity  \n",
       "0                           1         2  \n",
       "1                           1         2  \n",
       "2                           0         2  \n",
       "3                           1         2  \n",
       "4                           1         2  \n",
       "\n",
       "[5 rows x 33 columns]"
      ]
     },
     "execution_count": 27,
     "metadata": {},
     "output_type": "execute_result"
    }
   ],
   "source": [
    "#Using the test set to predict the output\n",
    "X_test = data_onehot_test[['Lat', 'Lng', 'Distance(mi)', 'Crossing', 'Junction', 'Railway',\n",
    "       'Stop', 'Amenity', 'Year', 'Month', 'Temperature(F)',\n",
    "       'Humidity(%)', 'Wind_Speed(mph)', 'Visibility(mi)', 'Side_L', 'Side_R',\n",
    "       'Weekday_Fri', 'Weekday_Mon', 'Weekday_Sat', 'Weekday_Sun',\n",
    "       'Weekday_Thu', 'Weekday_Tue', 'Weekday_Wed', 'description_not_holiday',\n",
    "       'Encoded_Weather_Cloudy', 'Encoded_Weather_Fair',\n",
    "       'Encoded_Weather_Rain', 'Encoded_Weather_other',\n",
    "       'Encoded_Hour_effect_hour_1', 'Encoded_Hour_effect_hour_2']]\n",
    "y_test_predicted = classifier.predict(X_test)\n",
    "\n",
    "data_onehot_test['Severity'] = y_test_predicted\n",
    "\n",
    "data_onehot_test.head()\n"
   ]
  },
  {
   "cell_type": "markdown",
   "metadata": {
    "id": "P_i0TwfSmJka",
    "papermill": {
     "duration": 0.044068,
     "end_time": "2021-07-27T16:48:34.547797",
     "exception": false,
     "start_time": "2021-07-27T16:48:34.503729",
     "status": "completed"
    },
    "tags": []
   },
   "source": [
    "# Save the output to CSV file "
   ]
  },
  {
   "cell_type": "code",
   "execution_count": 28,
   "metadata": {
    "execution": {
     "iopub.execute_input": "2021-07-27T16:48:34.646254Z",
     "iopub.status.busy": "2021-07-27T16:48:34.645455Z",
     "iopub.status.idle": "2021-07-27T16:48:34.658895Z",
     "shell.execute_reply": "2021-07-27T16:48:34.657961Z",
     "shell.execute_reply.started": "2021-07-27T16:47:44.929597Z"
    },
    "id": "F-Fu5vB1mJka",
    "papermill": {
     "duration": 0.06625,
     "end_time": "2021-07-27T16:48:34.659099",
     "exception": false,
     "start_time": "2021-07-27T16:48:34.592849",
     "status": "completed"
    },
    "tags": []
   },
   "outputs": [],
   "source": [
    "#Save the output in a CSV file \n",
    "data_onehot_test[['ID', 'Severity']].to_csv('./submission.csv', index=False)\n"
   ]
  }
 ],
 "metadata": {
  "kernelspec": {
   "display_name": "Python 3",
   "language": "python",
   "name": "python3"
  },
  "language_info": {
   "codemirror_mode": {
    "name": "ipython",
    "version": 3
   },
   "file_extension": ".py",
   "mimetype": "text/x-python",
   "name": "python",
   "nbconvert_exporter": "python",
   "pygments_lexer": "ipython3",
   "version": "3.7.6"
  },
  "papermill": {
   "default_parameters": {},
   "duration": 20.965956,
   "end_time": "2021-07-27T16:48:36.486401",
   "environment_variables": {},
   "exception": null,
   "input_path": "__notebook__.ipynb",
   "output_path": "__notebook__.ipynb",
   "parameters": {},
   "start_time": "2021-07-27T16:48:15.520445",
   "version": "2.3.3"
  },
  "varInspector": {
   "cols": {
    "lenName": 16,
    "lenType": 16,
    "lenVar": 40
   },
   "kernels_config": {
    "python": {
     "delete_cmd_postfix": "",
     "delete_cmd_prefix": "del ",
     "library": "var_list.py",
     "varRefreshCmd": "print(var_dic_list())"
    },
    "r": {
     "delete_cmd_postfix": ") ",
     "delete_cmd_prefix": "rm(",
     "library": "var_list.r",
     "varRefreshCmd": "cat(var_dic_list()) "
    }
   },
   "types_to_exclude": [
    "module",
    "function",
    "builtin_function_or_method",
    "instance",
    "_Feature"
   ],
   "window_display": false
  }
 },
 "nbformat": 4,
 "nbformat_minor": 5
}
